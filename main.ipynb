{
 "cells": [
  {
   "cell_type": "code",
   "execution_count": 1,
   "id": "a7d7cee2",
   "metadata": {},
   "outputs": [],
   "source": [
    "#imports\n",
    "import os\n",
    "os.environ[\"KMP_DUPLICATE_LIB_OK\"] = \"TRUE\"\n",
    "import torch\n",
    "import numpy as np\n",
    "import torchvision\n",
    "import torchvision.transforms as transforms\n",
    "import matplotlib.pyplot as plt"
   ]
  },
  {
   "cell_type": "code",
   "execution_count": 2,
   "id": "0211e75d",
   "metadata": {},
   "outputs": [
    {
     "name": "stdout",
     "output_type": "stream",
     "text": [
      "Using device: cpu\n"
     ]
    }
   ],
   "source": [
    "# Check for GPU\n",
    "device = torch.device(\"cuda\" if torch.cuda.is_available() else \"cpu\")\n",
    "print(f\"Using device: {device}\")\n"
   ]
  },
  {
   "cell_type": "code",
   "execution_count": 3,
   "id": "76e12d84",
   "metadata": {},
   "outputs": [],
   "source": [
    "# Transforms: normalize to [-1, 1]\n",
    "transform = transforms.Compose([\n",
    "    transforms.ToTensor(),\n",
    "    transforms.Normalize((0.5,), (0.5,))\n",
    "])\n",
    "\n",
    "# Load datasets\n",
    "trainset = torchvision.datasets.FashionMNIST(root='./data', train=True, download=True, transform=transform)\n",
    "testset = torchvision.datasets.FashionMNIST(root='./data', train=False, download=True, transform=transform)\n",
    "\n",
    "# Create DataLoaders\n",
    "trainloader = torch.utils.data.DataLoader(trainset, batch_size=64, shuffle=True)\n",
    "testloader = torch.utils.data.DataLoader(testset, batch_size=64, shuffle=False)"
   ]
  },
  {
   "cell_type": "code",
   "execution_count": 6,
   "id": "2ec0122d",
   "metadata": {},
   "outputs": [
    {
     "data": {
      "image/png": "[encoded data removed]",
      "text/plain": [
       "<Figure size 640x480 with 1 Axes>"
      ]
     },
     "metadata": {},
     "output_type": "display_data"
    },
    {
     "name": "stdout",
     "output_type": "stream",
     "text": [
      "Labels: Dress | Sandal | Sandal | Sneaker | Trouser | Sandal | T-shirt/top | Sandal\n"
     ]
    }
   ],
   "source": [
    "# Class names mapping visualise\n",
    "classes = [\n",
    "    'T-shirt/top', 'Trouser', 'Pullover', 'Dress', 'Coat',\n",
    "    'Sandal', 'Shirt', 'Sneaker', 'Bag', 'Ankle boot'\n",
    "]\n",
    "\n",
    "# Helper to unnormalize and show images\n",
    "def imshow(img):\n",
    "    img = img * 0.5 + 0.5  # unnormalize\n",
    "    npimg = img.numpy()\n",
    "    plt.imshow(np.transpose(npimg, (1, 2, 0)), cmap='gray')\n",
    "    plt.axis('off')\n",
    "    plt.show()\n",
    "\n",
    "# Get some random training images\n",
    "dataiter = iter(trainloader)\n",
    "images, labels = next(dataiter)\n",
    "\n",
    "# Show images\n",
    "imshow(torchvision.utils.make_grid(images[:8]))\n",
    "print('Labels:', ' | '.join(f'{classes[labels[j]]}' for j in range(8)))"
   ]
  },
  {
   "cell_type": "code",
   "execution_count": 8,
   "id": "e54eb3ba",
   "metadata": {},
   "outputs": [],
   "source": [
    "import torch.nn as nn\n",
    "import torch.nn.functional as F\n",
    "\n",
    "# LeNet-style CNN for grayscale FashionMNIST\n",
    "class FashionCNN(nn.Module):\n",
    "    def __init__(self):\n",
    "        super(FashionCNN, self).__init__()\n",
    "        self.conv1 = nn.Conv2d(1, 32, kernel_size=3, padding=1)   # (1, 28, 28) -> (32, 28, 28)\n",
    "        self.pool = nn.MaxPool2d(2, 2)                            # -> (32, 14, 14)\n",
    "        self.conv2 = nn.Conv2d(32, 64, kernel_size=3, padding=1) # -> (64, 14, 14)\n",
    "        self.fc1 = nn.Linear(64 * 7 * 7, 128)\n",
    "        self.fc2 = nn.Linear(128, 10)  # 10 classes\n",
    "\n",
    "    def forward(self, x):\n",
    "        x = self.pool(F.relu(self.conv1(x)))  # Conv1 -> ReLU -> Pool\n",
    "        x = self.pool(F.relu(self.conv2(x)))  # Conv2 -> ReLU -> Pool\n",
    "        x = x.view(-1, 64 * 7 * 7)            # Flatten\n",
    "        x = F.relu(self.fc1(x))               # FC1 + ReLU\n",
    "        x = self.fc2(x)                       # FC2 (no activation here)\n",
    "        return x\n"
   ]
  },
  {
   "cell_type": "code",
   "execution_count": 9,
   "id": "9d914c7f",
   "metadata": {},
   "outputs": [],
   "source": [
    "import torch.optim as optim\n",
    "\n",
    "# Instantiate model, loss, optimizer\n",
    "model = FashionCNN().to(device)\n",
    "criterion = nn.CrossEntropyLoss()\n",
    "optimizer = optim.Adam(model.parameters(), lr=0.001)\n",
    "\n",
    "# Training loop\n",
    "def train(model, loader, optimizer, criterion, epoch):\n",
    "    model.train()\n",
    "    running_loss = 0.0\n",
    "    for i, (inputs, labels) in enumerate(loader):\n",
    "        inputs, labels = inputs.to(device), labels.to(device)\n",
    "\n",
    "        optimizer.zero_grad()\n",
    "        outputs = model(inputs)\n",
    "        loss = criterion(outputs, labels)\n",
    "        loss.backward()\n",
    "        optimizer.step()\n",
    "\n",
    "        running_loss += loss.item()\n",
    "\n",
    "        if i % 100 == 99:  # print every 100 mini-batches\n",
    "            print(f\"[{epoch + 1}, {i + 1}] loss: {running_loss / 100:.3f}\")\n",
    "            running_loss = 0.0\n"
   ]
  },
  {
   "cell_type": "code",
   "execution_count": 10,
   "id": "1a3d4ca8",
   "metadata": {},
   "outputs": [],
   "source": [
    "def test(model, loader):\n",
    "    model.eval()\n",
    "    correct = 0\n",
    "    total = 0\n",
    "    with torch.no_grad():\n",
    "        for inputs, labels in loader:\n",
    "            inputs, labels = inputs.to(device), labels.to(device)\n",
    "            outputs = model(inputs)\n",
    "            _, predicted = torch.max(outputs.data, 1)\n",
    "            total += labels.size(0)\n",
    "            correct += (predicted == labels).sum().item()\n",
    "\n",
    "    acc = 100 * correct / total\n",
    "    print(f\"Test Accuracy: {acc:.2f}%\")\n",
    "    return acc\n"
   ]
  },
  {
   "cell_type": "code",
   "execution_count": 11,
   "id": "3558e7ae",
   "metadata": {},
   "outputs": [
    {
     "name": "stdout",
     "output_type": "stream",
     "text": [
      "[1, 100] loss: 0.855\n",
      "[1, 200] loss: 0.526\n",
      "[1, 200] loss: 0.526\n",
      "[1, 300] loss: 0.467\n",
      "[1, 300] loss: 0.467\n",
      "[1, 400] loss: 0.426\n",
      "[1, 400] loss: 0.426\n",
      "[1, 500] loss: 0.389\n",
      "[1, 500] loss: 0.389\n",
      "[1, 600] loss: 0.387\n",
      "[1, 600] loss: 0.387\n",
      "[1, 700] loss: 0.366\n",
      "[1, 700] loss: 0.366\n",
      "[1, 800] loss: 0.344\n",
      "[1, 800] loss: 0.344\n",
      "[1, 900] loss: 0.344\n",
      "[1, 900] loss: 0.344\n",
      "Test Accuracy: 87.83%\n",
      "Test Accuracy: 87.83%\n",
      "[2, 100] loss: 0.308\n",
      "[2, 100] loss: 0.308\n",
      "[2, 200] loss: 0.304\n",
      "[2, 200] loss: 0.304\n",
      "[2, 300] loss: 0.303\n",
      "[2, 300] loss: 0.303\n",
      "[2, 400] loss: 0.287\n",
      "[2, 400] loss: 0.287\n",
      "[2, 500] loss: 0.273\n",
      "[2, 500] loss: 0.273\n",
      "[2, 600] loss: 0.295\n",
      "[2, 600] loss: 0.295\n",
      "[2, 700] loss: 0.282\n",
      "[2, 700] loss: 0.282\n",
      "[2, 800] loss: 0.267\n",
      "[2, 800] loss: 0.267\n",
      "[2, 900] loss: 0.284\n",
      "[2, 900] loss: 0.284\n",
      "Test Accuracy: 89.51%\n",
      "Test Accuracy: 89.51%\n",
      "[3, 100] loss: 0.254\n",
      "[3, 100] loss: 0.254\n",
      "[3, 200] loss: 0.241\n",
      "[3, 200] loss: 0.241\n",
      "[3, 300] loss: 0.250\n",
      "[3, 300] loss: 0.250\n",
      "[3, 400] loss: 0.240\n",
      "[3, 400] loss: 0.240\n",
      "[3, 500] loss: 0.238\n",
      "[3, 500] loss: 0.238\n",
      "[3, 600] loss: 0.239\n",
      "[3, 600] loss: 0.239\n",
      "[3, 700] loss: 0.240\n",
      "[3, 700] loss: 0.240\n",
      "[3, 800] loss: 0.243\n",
      "[3, 800] loss: 0.243\n",
      "[3, 900] loss: 0.232\n",
      "[3, 900] loss: 0.232\n",
      "Test Accuracy: 90.04%\n",
      "Test Accuracy: 90.04%\n",
      "[4, 100] loss: 0.210\n",
      "[4, 100] loss: 0.210\n",
      "[4, 200] loss: 0.203\n",
      "[4, 200] loss: 0.203\n",
      "[4, 300] loss: 0.207\n",
      "[4, 300] loss: 0.207\n",
      "[4, 400] loss: 0.216\n",
      "[4, 400] loss: 0.216\n",
      "[4, 500] loss: 0.222\n",
      "[4, 500] loss: 0.222\n",
      "[4, 600] loss: 0.212\n",
      "[4, 600] loss: 0.212\n",
      "[4, 700] loss: 0.203\n",
      "[4, 700] loss: 0.203\n",
      "[4, 800] loss: 0.207\n",
      "[4, 800] loss: 0.207\n",
      "[4, 900] loss: 0.203\n",
      "[4, 900] loss: 0.203\n",
      "Test Accuracy: 90.99%\n",
      "Test Accuracy: 90.99%\n",
      "[5, 100] loss: 0.172\n",
      "[5, 100] loss: 0.172\n",
      "[5, 200] loss: 0.182\n",
      "[5, 200] loss: 0.182\n",
      "[5, 300] loss: 0.178\n",
      "[5, 300] loss: 0.178\n",
      "[5, 400] loss: 0.185\n",
      "[5, 400] loss: 0.185\n",
      "[5, 500] loss: 0.182\n",
      "[5, 500] loss: 0.182\n",
      "[5, 600] loss: 0.183\n",
      "[5, 600] loss: 0.183\n",
      "[5, 700] loss: 0.181\n",
      "[5, 700] loss: 0.181\n",
      "[5, 800] loss: 0.184\n",
      "[5, 800] loss: 0.184\n",
      "[5, 900] loss: 0.179\n",
      "[5, 900] loss: 0.179\n",
      "Test Accuracy: 91.60%\n",
      "Test Accuracy: 91.60%\n"
     ]
    }
   ],
   "source": [
    "for epoch in range(5):  # You can increase later\n",
    "    train(model, trainloader, optimizer, criterion, epoch)\n",
    "    test(model, testloader)\n",
    "\n",
    "# Save final model\n",
    "torch.save(model.state_dict(), 'fashion_cnn.pth')\n"
   ]
  },
  {
   "cell_type": "code",
   "execution_count": 1,
   "id": "5eff4b3e",
   "metadata": {},
   "outputs": [
    {
     "ename": "ModuleNotFoundError",
     "evalue": "No module named 'gradcam'",
     "output_type": "error",
     "traceback": [
      "\u001b[31m---------------------------------------------------------------------------\u001b[39m",
      "\u001b[31mModuleNotFoundError\u001b[39m                       Traceback (most recent call last)",
      "\u001b[36mCell\u001b[39m\u001b[36m \u001b[39m\u001b[32mIn[1]\u001b[39m\u001b[32m, line 1\u001b[39m\n\u001b[32m----> \u001b[39m\u001b[32m1\u001b[39m \u001b[38;5;28;01mfrom\u001b[39;00m\u001b[38;5;250m \u001b[39m\u001b[34;01mgradcam\u001b[39;00m\u001b[38;5;250m \u001b[39m\u001b[38;5;28;01mimport\u001b[39;00m GradCAM\n\u001b[32m      2\u001b[39m \u001b[38;5;28;01mimport\u001b[39;00m\u001b[38;5;250m \u001b[39m\u001b[34;01mmatplotlib\u001b[39;00m\u001b[34;01m.\u001b[39;00m\u001b[34;01mpyplot\u001b[39;00m\u001b[38;5;250m \u001b[39m\u001b[38;5;28;01mas\u001b[39;00m\u001b[38;5;250m \u001b[39m\u001b[34;01mplt\u001b[39;00m\n\u001b[32m      4\u001b[39m \u001b[38;5;66;03m# Load model again and switch to eval\u001b[39;00m\n",
      "\u001b[31mModuleNotFoundError\u001b[39m: No module named 'gradcam'"
     ]
    }
   ],
   "source": [
    "from gradcam import GradCAM\n",
    "import matplotlib.pyplot as plt\n",
    "\n",
    "# Load model again and switch to eval\n",
    "model = FashionCNN().to(device)\n",
    "model.load_state_dict(torch.load(\"fashion_cnn.pth\"))\n",
    "model.eval()\n",
    "\n",
    "# Pick one test image\n",
    "images, labels = next(iter(testloader))\n",
    "input_img = images[0].unsqueeze(0).to(device)\n",
    "label = labels[0].item()\n",
    "\n",
    "# Create GradCAM object targeting last conv layer\n",
    "cam = GradCAM(model, target_layer=model.conv2)\n",
    "heatmap = cam.generate(input_img)\n",
    "\n",
    "# Unnormalize and convert image\n",
    "img = input_img.squeeze().cpu().numpy()\n",
    "img = (img * 0.5) + 0.5  # unnormalize\n",
    "\n",
    "# Resize heatmap to match image size\n",
    "heatmap_resized = cv2.resize(heatmap, (28, 28))\n",
    "heatmap_colored = cv2.applyColorMap(np.uint8(255 * heatmap_resized), cv2.COLORMAP_JET)\n",
    "overlay = 0.5 * heatmap_colored[..., ::-1] / 255.0 + 0.5 * np.stack([img]*3, axis=-1)\n",
    "\n",
    "# Show overlay\n",
    "plt.imshow(overlay)\n",
    "plt.title(f\"True label: {classes[label]}\")\n",
    "plt.axis('off')\n",
    "plt.show()\n"
   ]
  }
 ],
 "metadata": {
  "kernelspec": {
   "display_name": "ml-projects",
   "language": "python",
   "name": "python3"
  },
  "language_info": {
   "codemirror_mode": {
    "name": "ipython",
    "version": 3
   },
   "file_extension": ".py",
   "mimetype": "text/x-python",
   "name": "python",
   "nbconvert_exporter": "python",
   "pygments_lexer": "ipython3",
   "version": "3.13.5"
  }
 },
 "nbformat": 4,
 "nbformat_minor": 5
}
